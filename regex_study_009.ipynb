{
 "cells": [
  {
   "cell_type": "code",
   "execution_count": 1,
   "metadata": {},
   "outputs": [],
   "source": [
    "import re"
   ]
  },
  {
   "cell_type": "code",
   "execution_count": 3,
   "metadata": {},
   "outputs": [],
   "source": [
    "# kitten, puppy, piglet, foal, fawn, duckling, chick => cutie 로 교체\n",
    "\n",
    "def replace_cute_animal_with_cutie(string):\n",
    "    match = re.sub(r\"kitten|puppy|piglet|foal|fawn|duckling|chick\", \"cutie\", string)\n",
    "    return match"
   ]
  },
  {
   "cell_type": "code",
   "execution_count": 4,
   "metadata": {},
   "outputs": [],
   "source": [
    "string = \"I brought home a kitten and a puppy yesterday. Then I went to the petting zoo and saw a piglet, a foal and a chick.\""
   ]
  },
  {
   "cell_type": "code",
   "execution_count": 5,
   "metadata": {},
   "outputs": [
    {
     "data": {
      "text/plain": [
       "'I brought home a cutie and a cutie yesterday. Then I went to the petting zoo and saw a cutie, a cutie and a cutie.'"
      ]
     },
     "execution_count": 5,
     "metadata": {},
     "output_type": "execute_result"
    }
   ],
   "source": [
    "replace_cute_animal_with_cutie(string)"
   ]
  },
  {
   "cell_type": "code",
   "execution_count": 10,
   "metadata": {},
   "outputs": [],
   "source": [
    "# 기존 방식 : kitten|puppy|piglet|foal|fawn|duckling|chick => 무조건 cutie little 로 교체\n",
    "# 우리가 이번에 하고 싶은 것 : kitten|puppy|piglet|foal|fawn|duckling|chick를 찾았으면 이것들 앞에 cutie little를 추가!\n",
    "def replace_cute_animal_with_cutie(string):\n",
    "    match = re.sub(r\"(kitten|puppy|piglet|foal|fawn|duckling|chick)\", r\"cutie little \\1\", string)\n",
    "    return match"
   ]
  },
  {
   "cell_type": "code",
   "execution_count": 11,
   "metadata": {},
   "outputs": [
    {
     "data": {
      "text/plain": [
       "'I brought home a cutie little kitten and a cutie little puppy yesterday. Then I went to the petting zoo and saw a cutie little piglet, a cutie little foal and a cutie little chick.'"
      ]
     },
     "execution_count": 11,
     "metadata": {},
     "output_type": "execute_result"
    }
   ],
   "source": [
    "replace_cute_animal_with_cutie(string)"
   ]
  },
  {
   "cell_type": "code",
   "execution_count": 14,
   "metadata": {},
   "outputs": [],
   "source": [
    "def remove_character(string):\n",
    "    return re.sub(r\"_\", \" \", string)"
   ]
  },
  {
   "cell_type": "code",
   "execution_count": 15,
   "metadata": {},
   "outputs": [
    {
     "data": {
      "text/plain": [
       "'I hava a dream.'"
      ]
     },
     "execution_count": 15,
     "metadata": {},
     "output_type": "execute_result"
    }
   ],
   "source": [
    "remove_character(\"I_hava_a_dream.\")"
   ]
  },
  {
   "cell_type": "code",
   "execution_count": 19,
   "metadata": {},
   "outputs": [
    {
     "data": {
      "text/plain": [
       "'USD 34.75\\\\nGBP 1.20\\\\nBRL 15.91\\\\nJPY 68.93\\\\nUSD 22.03\\\\nUSD 50\\\\nBRL 120.33\\\\nINR 879.21'"
      ]
     },
     "execution_count": 19,
     "metadata": {},
     "output_type": "execute_result"
    }
   ],
   "source": [
    "values = 'USD 34.75\\\\nGBP 1.20\\\\nBRL 15.91\\\\nJPY 68.93\\\\nUSD 22.03\\\\nUSD 50\\\\nBRL 120.33\\\\nINR 879.21'\n",
    "values"
   ]
  },
  {
   "cell_type": "code",
   "execution_count": 60,
   "metadata": {},
   "outputs": [],
   "source": [
    "def extract_USD_values(string):\n",
    "    match = re.finditer(r\"(?<=USD )\\d*(?:.\\d\\d)?\", string)\n",
    "    return match"
   ]
  },
  {
   "cell_type": "code",
   "execution_count": 64,
   "metadata": {},
   "outputs": [
    {
     "name": "stdout",
     "output_type": "stream",
     "text": [
      "34.75\n",
      "22.03\n",
      "50\n"
     ]
    }
   ],
   "source": [
    "for item in extract_USD_values(values):\n",
    "    print(item[0])"
   ]
  },
  {
   "cell_type": "code",
   "execution_count": 65,
   "metadata": {},
   "outputs": [],
   "source": [
    "def extract_USD_values(string):\n",
    "    match = re.findall(r\"(?<=USD )\\d*(?:.\\d\\d)?\", string)\n",
    "    return match"
   ]
  },
  {
   "cell_type": "code",
   "execution_count": 66,
   "metadata": {},
   "outputs": [
    {
     "data": {
      "text/plain": [
       "['34.75', '22.03', '50']"
      ]
     },
     "execution_count": 66,
     "metadata": {},
     "output_type": "execute_result"
    }
   ],
   "source": [
    "extract_USD_values(values)"
   ]
  },
  {
   "cell_type": "code",
   "execution_count": 67,
   "metadata": {},
   "outputs": [],
   "source": [
    "passage = \"\"\"It was a quarter past six when we left Baker Street, and it still wanted ten minutes to the hour when we found ourselves in Serpentine Avenue. It was already dusk, and the lamps were just being lighted as we paced up and down in front of Briony Lodge, waiting for the coming of its occupant. The house was just such as I had pictured it from Sherlock Holmes' succinct description, but the locality appeared to be less private than I expected. On the contrary, for a small street in a quiet neighbourhood, it was remarkably animated.\n",
    "\n",
    "Excerpt From: Arthur Conan Doyle. \"The Adventures of Sherlock Holmes.\" Apple Books.\"\"\"\n"
   ]
  },
  {
   "cell_type": "code",
   "execution_count": 117,
   "metadata": {},
   "outputs": [],
   "source": [
    "def find_caps_within_sentence(string):\n",
    "    # match = re.findall(r\"\\w*\\b\", string)\n",
    "    match = re.findall(r\"(?<!^)(?<![.,?!]\\s)[A-Z]\\w*\\b\", string)\n",
    "    return match"
   ]
  },
  {
   "cell_type": "code",
   "execution_count": 118,
   "metadata": {},
   "outputs": [
    {
     "data": {
      "text/plain": [
       "(21,\n",
       " ['Baker',\n",
       "  'Street',\n",
       "  'Serpentine',\n",
       "  'Avenue',\n",
       "  'Briony',\n",
       "  'Lodge',\n",
       "  'I',\n",
       "  'Sherlock',\n",
       "  'Holmes',\n",
       "  'I',\n",
       "  'Excerpt',\n",
       "  'From',\n",
       "  'Arthur',\n",
       "  'Conan',\n",
       "  'Doyle',\n",
       "  'The',\n",
       "  'Adventures',\n",
       "  'Sherlock',\n",
       "  'Holmes',\n",
       "  'Apple',\n",
       "  'Books'])"
      ]
     },
     "execution_count": 118,
     "metadata": {},
     "output_type": "execute_result"
    }
   ],
   "source": [
    "len(find_caps_within_sentence(passage)), find_caps_within_sentence(passage)"
   ]
  },
  {
   "cell_type": "code",
   "execution_count": 146,
   "metadata": {},
   "outputs": [],
   "source": [
    "log = \"\"\"sep 24 00:00:00 something happened\n",
    "sep 24 13:29:33 something else happened\n",
    "sep 24 28:42:07 yet another thing happened\n",
    "sep 25 00:00:00 something happened not yet\n",
    "sep 25 09:08:56 you gotta see this\n",
    "sep 26 06:37:40 alert! alert!\n",
    "sep 26 10:22:49 this needs your attention\n",
    "sep 27 00:00:00 something happened\n",
    "sep 27 18:29:12 maybe you should look into this\n",
    "\"\"\""
   ]
  },
  {
   "cell_type": "code",
   "execution_count": 151,
   "metadata": {},
   "outputs": [],
   "source": [
    "def find_log_dates(string):\n",
    "    match = re.findall(r\"^\\w\\w\\w \\d\\d(?= 00:00:00 something happened not yet$)\", string, flags = re.MULTILINE)\n",
    "    return match"
   ]
  },
  {
   "cell_type": "code",
   "execution_count": 152,
   "metadata": {},
   "outputs": [
    {
     "data": {
      "text/plain": [
       "['sep 25']"
      ]
     },
     "execution_count": 152,
     "metadata": {},
     "output_type": "execute_result"
    }
   ],
   "source": [
    "find_log_dates(log) # ['sep 24', 'sep 25', 'sep 27']"
   ]
  },
  {
   "cell_type": "code",
   "execution_count": 187,
   "metadata": {},
   "outputs": [],
   "source": [
    "silly_limerick = \"\"\"There was a young fellow of Crete\n",
    "Who was so exceedingly neat.\n",
    "When he got out of bed,\n",
    "He stood on his head\n",
    "To make sure of not soiling his feet.\"\"\""
   ]
  },
  {
   "cell_type": "code",
   "execution_count": 191,
   "metadata": {},
   "outputs": [],
   "source": [
    "def find_all_words_not_at_end_of_line(string):\n",
    "    match = re.findall(r\"\\w+\\b(?![.!;.,]?$)\", string, flags = re.MULTILINE)\n",
    "    return match"
   ]
  },
  {
   "cell_type": "code",
   "execution_count": 192,
   "metadata": {},
   "outputs": [
    {
     "data": {
      "text/plain": [
       "['There',\n",
       " 'was',\n",
       " 'a',\n",
       " 'young',\n",
       " 'fellow',\n",
       " 'of',\n",
       " 'Who',\n",
       " 'was',\n",
       " 'so',\n",
       " 'exceedingly',\n",
       " 'When',\n",
       " 'he',\n",
       " 'got',\n",
       " 'out',\n",
       " 'of',\n",
       " 'He',\n",
       " 'stood',\n",
       " 'on',\n",
       " 'his',\n",
       " 'To',\n",
       " 'make',\n",
       " 'sure',\n",
       " 'of',\n",
       " 'not',\n",
       " 'soiling',\n",
       " 'his']"
      ]
     },
     "execution_count": 192,
     "metadata": {},
     "output_type": "execute_result"
    }
   ],
   "source": [
    "find_all_words_not_at_end_of_line(silly_limerick)"
   ]
  },
  {
   "cell_type": "code",
   "execution_count": null,
   "metadata": {},
   "outputs": [],
   "source": []
  },
  {
   "cell_type": "code",
   "execution_count": null,
   "metadata": {},
   "outputs": [],
   "source": []
  }
 ],
 "metadata": {
  "interpreter": {
   "hash": "ac8013a75859c6925308985c5e1ee5242e6e6f0429f283ee420b8cff3c2914b2"
  },
  "kernelspec": {
   "display_name": "Python 3.9.7 64-bit ('venv_night': venv)",
   "name": "python3"
  },
  "language_info": {
   "codemirror_mode": {
    "name": "ipython",
    "version": 3
   },
   "file_extension": ".py",
   "mimetype": "text/x-python",
   "name": "python",
   "nbconvert_exporter": "python",
   "pygments_lexer": "ipython3",
   "version": "3.9.7"
  },
  "orig_nbformat": 4
 },
 "nbformat": 4,
 "nbformat_minor": 2
}

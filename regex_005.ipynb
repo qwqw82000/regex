{
 "cells": [
  {
   "cell_type": "code",
   "execution_count": 1,
   "metadata": {},
   "outputs": [],
   "source": [
    "import re"
   ]
  },
  {
   "cell_type": "code",
   "execution_count": 12,
   "metadata": {},
   "outputs": [],
   "source": [
    "# 없거나 있으면 있는대로 모두 다~~~\n",
    "# greeeeeeeeeeeeeeeeeeey, ogre, grand piano : True\n",
    "# potato : None\n",
    "def match_gre_start_greedy(string):\n",
    "    match = re.search(r\"gre*\", string)\n",
    "    # return match is not None\n",
    "\n",
    "    if match is None:\n",
    "        return None\n",
    "\n",
    "    return match.group(0)"
   ]
  },
  {
   "cell_type": "code",
   "execution_count": 13,
   "metadata": {},
   "outputs": [
    {
     "data": {
      "text/plain": [
       "'greeeeeeeeeeeeeeeeeee'"
      ]
     },
     "execution_count": 13,
     "metadata": {},
     "output_type": "execute_result"
    }
   ],
   "source": [
    "match_gre_start_greedy(\"greeeeeeeeeeeeeeeeeeey\")"
   ]
  },
  {
   "cell_type": "code",
   "execution_count": 14,
   "metadata": {},
   "outputs": [
    {
     "data": {
      "text/plain": [
       "'gre'"
      ]
     },
     "execution_count": 14,
     "metadata": {},
     "output_type": "execute_result"
    }
   ],
   "source": [
    "match_gre_start_greedy(\"ogre\")"
   ]
  },
  {
   "cell_type": "code",
   "execution_count": 15,
   "metadata": {},
   "outputs": [
    {
     "data": {
      "text/plain": [
       "'gr'"
      ]
     },
     "execution_count": 15,
     "metadata": {},
     "output_type": "execute_result"
    }
   ],
   "source": [
    "match_gre_start_greedy(\"grand piano\")"
   ]
  },
  {
   "cell_type": "code",
   "execution_count": 16,
   "metadata": {},
   "outputs": [],
   "source": [
    "match_gre_start_greedy(\"potato\")"
   ]
  },
  {
   "cell_type": "code",
   "execution_count": 51,
   "metadata": {},
   "outputs": [],
   "source": [
    "# 없거나 있으면 있는대로 모두 다~~~\n",
    "# laaaaaaaaaaaaaaaaaaaay, loop : True\n",
    "# potato : False\n",
    "def match_la_star_lazy(string):\n",
    "    match = re.search(r\"la*\", string)\n",
    "\n",
    "    if match is None:\n",
    "        return None\n",
    "\n",
    "    return match.group(0)"
   ]
  },
  {
   "cell_type": "code",
   "execution_count": 52,
   "metadata": {},
   "outputs": [
    {
     "data": {
      "text/plain": [
       "'laaaaaaaaaaaaaaaaaaaa'"
      ]
     },
     "execution_count": 52,
     "metadata": {},
     "output_type": "execute_result"
    }
   ],
   "source": [
    "match_la_star_lazy(\"laaaaaaaaaaaaaaaaaaaazy\")"
   ]
  },
  {
   "cell_type": "code",
   "execution_count": 53,
   "metadata": {},
   "outputs": [
    {
     "data": {
      "text/plain": [
       "'l'"
      ]
     },
     "execution_count": 53,
     "metadata": {},
     "output_type": "execute_result"
    }
   ],
   "source": [
    "match_la_star_lazy(\"loop\")"
   ]
  },
  {
   "cell_type": "code",
   "execution_count": 54,
   "metadata": {},
   "outputs": [],
   "source": [
    "match_la_star_lazy(\"potato\")"
   ]
  },
  {
   "cell_type": "code",
   "execution_count": 55,
   "metadata": {},
   "outputs": [],
   "source": [
    "# 최소한 1개는 있고 있으면 있는대로 모두 다~~~\n",
    "def match_la_plus_lazy(string):\n",
    "    match = re.search(r\"la+?\", string)\n",
    "\n",
    "    if match is None:\n",
    "        return None\n",
    "\n",
    "    return match.group(0)"
   ]
  },
  {
   "cell_type": "code",
   "execution_count": 56,
   "metadata": {},
   "outputs": [
    {
     "data": {
      "text/plain": [
       "'la'"
      ]
     },
     "execution_count": 56,
     "metadata": {},
     "output_type": "execute_result"
    }
   ],
   "source": [
    "match_la_plus_lazy(\"laaaaaaaaaaaaaaaaaaazy\")"
   ]
  },
  {
   "cell_type": "code",
   "execution_count": 57,
   "metadata": {},
   "outputs": [],
   "source": [
    "match_la_plus_lazy(\"loop\")"
   ]
  },
  {
   "cell_type": "code",
   "execution_count": 58,
   "metadata": {},
   "outputs": [],
   "source": [
    "match_la_plus_lazy(\"potato\")"
   ]
  },
  {
   "cell_type": "code",
   "execution_count": 62,
   "metadata": {},
   "outputs": [],
   "source": [
    "def is_sentence_lazy(string):\n",
    "    matches = re.search(r\"^[A-Z].*?[.!?]$\", string)\n",
    "    return matches is not None"
   ]
  },
  {
   "cell_type": "code",
   "execution_count": 63,
   "metadata": {},
   "outputs": [
    {
     "data": {
      "text/plain": [
       "True"
      ]
     },
     "execution_count": 63,
     "metadata": {},
     "output_type": "execute_result"
    }
   ],
   "source": [
    "is_sentence_lazy(\"Kettens are.\")"
   ]
  },
  {
   "cell_type": "code",
   "execution_count": 64,
   "metadata": {},
   "outputs": [],
   "source": [
    "example_string = \"\"\"Hello. Goodbye!\n",
    "Hello, how are you doing today? Hope you’re having a good one. Goodbye!\n",
    "Hello! It’s been great talking to you. Bye!\n",
    "Hello, so good to see you. Seeya later!\n",
    "Goodbye!\"\"\""
   ]
  },
  {
   "cell_type": "code",
   "execution_count": 98,
   "metadata": {},
   "outputs": [],
   "source": [
    "def find_hello_start_bye_end_multiline_all_case_insensitive(string):\n",
    "    match = re.findall(r\"^Hello.*bye!$\", string, re.M | re.I | re.S)\n",
    "    return match"
   ]
  },
  {
   "cell_type": "code",
   "execution_count": 99,
   "metadata": {},
   "outputs": [
    {
     "data": {
      "text/plain": [
       "['Hello. Goodbye!\\nHello, how are you doing today? Hope you’re having a good one. Goodbye!\\nHello! It’s been great talking to you. Bye!\\nHello, so good to see you. Seeya later!\\nGoodbye!']"
      ]
     },
     "execution_count": 99,
     "metadata": {},
     "output_type": "execute_result"
    }
   ],
   "source": [
    "find_hello_start_bye_end_multiline_all_case_insensitive(example_string)"
   ]
  },
  {
   "cell_type": "code",
   "execution_count": 100,
   "metadata": {},
   "outputs": [],
   "source": [
    "def find_hello_start_bye_end_multiline_all_case_insensitive2(string):\n",
    "    match = re.findall(r\"^Hello.*?bye!$\", string, re.M | re.I | re.S)\n",
    "    return match"
   ]
  },
  {
   "cell_type": "code",
   "execution_count": 101,
   "metadata": {},
   "outputs": [
    {
     "data": {
      "text/plain": [
       "['Hello. Goodbye!',\n",
       " 'Hello, how are you doing today? Hope you’re having a good one. Goodbye!',\n",
       " 'Hello! It’s been great talking to you. Bye!',\n",
       " 'Hello, so good to see you. Seeya later!\\nGoodbye!']"
      ]
     },
     "execution_count": 101,
     "metadata": {},
     "output_type": "execute_result"
    }
   ],
   "source": [
    "find_hello_start_bye_end_multiline_all_case_insensitive2(example_string)"
   ]
  },
  {
   "cell_type": "code",
   "execution_count": null,
   "metadata": {},
   "outputs": [],
   "source": []
  }
 ],
 "metadata": {
  "interpreter": {
   "hash": "42e1dc2b03fbc0367403f76d6ca5587aad0fe066d3ca4fecf4a4cc25480583cf"
  },
  "kernelspec": {
   "display_name": "Python 3.8.6rc1 64-bit ('venv20211007': venv)",
   "name": "python3"
  },
  "language_info": {
   "codemirror_mode": {
    "name": "ipython",
    "version": 3
   },
   "file_extension": ".py",
   "mimetype": "text/x-python",
   "name": "python",
   "nbconvert_exporter": "python",
   "pygments_lexer": "ipython3",
   "version": "3.8.6"
  },
  "orig_nbformat": 4
 },
 "nbformat": 4,
 "nbformat_minor": 2
}

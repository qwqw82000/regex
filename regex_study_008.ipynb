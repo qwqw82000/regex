{
 "cells": [
  {
   "cell_type": "code",
   "execution_count": 1,
   "metadata": {},
   "outputs": [],
   "source": [
    "import re"
   ]
  },
  {
   "cell_type": "code",
   "execution_count": 31,
   "metadata": {},
   "outputs": [],
   "source": [
    "# 시간을 입력했을 때, 0 ~ 23시 / 24:00 => True\n",
    "# 28:33 => False\n",
    "# | => or A|B \n",
    "# 00 01 02 03 04 05 06 07 08 09 => 0?\\d \n",
    "# 10 11 12 13 14 15 16 17 18 19 => 1?\\d\n",
    "# 20 21 22 23 => 2[0-3]\n",
    "# 숫자 2자리 중에서 앞자리가 0이라 1이면 뒷자리는 0 ~ 9 => [0-9] => \\d ( ^\\d => \\D )\n",
    "# \n",
    "# 00 01 02 03 04 05 06 07 08 09 => 0\\d\n",
    "# 10 11 12 13 14 15 16 17 18 19 => 1\\d\n",
    "# 20 21 22 23 24 25 26 27 28 29 => 2\\d\n",
    "# 30 31 32 33 34 35 36 37 38 39 => 3\\d\n",
    "# 40 41 42 43 44 45 46 47 48 49 => 4\\d\n",
    "# 50 51 52 53 54 55 56 57 58 59 => 5\\d\n",
    "# ===> [0-5]\\d\n",
    "\n",
    "def match_24_hr_clock(string):\n",
    "    # match = re.search(r\"(0?\\d|1?\\d|2[0-3]):[0-5]\\d\", string)\n",
    "    match = re.search(r\"(1?\\d|2[0-3]):[0-5]\\d\", string)\n",
    "    return match is not None"
   ]
  },
  {
   "cell_type": "code",
   "execution_count": 32,
   "metadata": {},
   "outputs": [
    {
     "data": {
      "text/plain": [
       "True"
      ]
     },
     "execution_count": 32,
     "metadata": {},
     "output_type": "execute_result"
    }
   ],
   "source": [
    "match_24_hr_clock(\"5:43\")"
   ]
  },
  {
   "cell_type": "code",
   "execution_count": 33,
   "metadata": {},
   "outputs": [
    {
     "data": {
      "text/plain": [
       "True"
      ]
     },
     "execution_count": 33,
     "metadata": {},
     "output_type": "execute_result"
    }
   ],
   "source": [
    "match_24_hr_clock(\"05:43\")"
   ]
  },
  {
   "cell_type": "code",
   "execution_count": 34,
   "metadata": {},
   "outputs": [
    {
     "data": {
      "text/plain": [
       "True"
      ]
     },
     "execution_count": 34,
     "metadata": {},
     "output_type": "execute_result"
    }
   ],
   "source": [
    "match_24_hr_clock(\"15:48\")"
   ]
  },
  {
   "cell_type": "code",
   "execution_count": 35,
   "metadata": {},
   "outputs": [
    {
     "data": {
      "text/plain": [
       "True"
      ]
     },
     "execution_count": 35,
     "metadata": {},
     "output_type": "execute_result"
    }
   ],
   "source": [
    "match_24_hr_clock(\"23:12\")"
   ]
  },
  {
   "cell_type": "code",
   "execution_count": 38,
   "metadata": {},
   "outputs": [
    {
     "data": {
      "text/plain": [
       "True"
      ]
     },
     "execution_count": 38,
     "metadata": {},
     "output_type": "execute_result"
    }
   ],
   "source": [
    "# False가 나와야 하는데... 왜? True일까...\n",
    "match_24_hr_clock(\"28:33\")"
   ]
  },
  {
   "cell_type": "code",
   "execution_count": 37,
   "metadata": {},
   "outputs": [
    {
     "data": {
      "text/plain": [
       "False"
      ]
     },
     "execution_count": 37,
     "metadata": {},
     "output_type": "execute_result"
    }
   ],
   "source": [
    "match_24_hr_clock(\"12:89\")"
   ]
  },
  {
   "cell_type": "code",
   "execution_count": 69,
   "metadata": {},
   "outputs": [],
   "source": [
    "# 파일 목록을 가져오는데... 이미지 파일만 처리하고 싶다.\n",
    "# 자연어 처리시 필요한 txt나 json, pdf 형태만 처리하고 싶다\n",
    "\n",
    "# png, jpg, jpeg, pdf 파일들을 처리하고 싶다! 이런 파일들의 확장자를 제거하고 싶다.\n",
    "def extract_filename_for_certain_image_files(string):\n",
    "    match = re.search(r\"(.+).(png|jpe?g|pdf)\", string)\n",
    "    #match = re.search(r\".+.(png|jpe?g|pdf)\", string)\n",
    "    # match = re.match(r\"(.+).(png|jpe?g|pdf)\", string)\n",
    "    # . 가 쓰이는 위치에 따라 의미가 다르고, ^ 가 쓰이는 위치에 따란 의미가 다르고\n",
    "    # - 가 쓰이는 위치에 따라 의미가 다르고...\n",
    "\n",
    "    # 일치 객체 -> [] 방식으로 인덱스를 전달함으로써 해당 그룹을 분리한다.\n",
    "    # [0] : 모든 것을 의미!\n",
    "    # [1] : 첫번째 그룹\n",
    "    # [2] : 두번째 그룹\n",
    "    return match[1]"
   ]
  },
  {
   "cell_type": "code",
   "execution_count": 70,
   "metadata": {},
   "outputs": [
    {
     "data": {
      "text/plain": [
       "'cute_kittens'"
      ]
     },
     "execution_count": 70,
     "metadata": {},
     "output_type": "execute_result"
    }
   ],
   "source": [
    "extract_filename_for_certain_image_files(\"cute_kittens.pdf\")"
   ]
  },
  {
   "cell_type": "code",
   "execution_count": 71,
   "metadata": {},
   "outputs": [
    {
     "data": {
      "text/plain": [
       "'adorable_puppies'"
      ]
     },
     "execution_count": 71,
     "metadata": {},
     "output_type": "execute_result"
    }
   ],
   "source": [
    "extract_filename_for_certain_image_files(\"adorable_puppies.jpg\")"
   ]
  },
  {
   "cell_type": "code",
   "execution_count": 95,
   "metadata": {},
   "outputs": [],
   "source": [
    "def extract_filename_for_certain_image_files_not_grouping(string):\n",
    "    match = re.findall(r\"(.+).(png|jpe?g|pdf)\", string)\n",
    "    return match[0][0]"
   ]
  },
  {
   "cell_type": "code",
   "execution_count": 96,
   "metadata": {},
   "outputs": [
    {
     "data": {
      "text/plain": [
       "'cute_kittens'"
      ]
     },
     "execution_count": 96,
     "metadata": {},
     "output_type": "execute_result"
    }
   ],
   "source": [
    "extract_filename_for_certain_image_files_not_grouping(\"cute_kittens.pdf\")"
   ]
  },
  {
   "cell_type": "code",
   "execution_count": 97,
   "metadata": {},
   "outputs": [
    {
     "data": {
      "text/plain": [
       "'adorable_puppies'"
      ]
     },
     "execution_count": 97,
     "metadata": {},
     "output_type": "execute_result"
    }
   ],
   "source": [
    "extract_filename_for_certain_image_files_not_grouping(\"adorable_puppies.jpg\")"
   ]
  },
  {
   "cell_type": "code",
   "execution_count": 137,
   "metadata": {},
   "outputs": [],
   "source": [
    "# HTML element = opening tag ( <tag name> ) + closing tag ( </tag name> )\n",
    "def find_all_outer_html_elements(string):\n",
    "    # match = re.findall(r\"<\\w+?>.*?</\\w+?>\", string)\n",
    "    match_object = re.finditer(r\"<(\\w+?)>.*?</\\1>\", string)\n",
    "    \n",
    "    full_matches = []\n",
    "    for match in match_object:\n",
    "        print(match[0])\n"
   ]
  },
  {
   "cell_type": "code",
   "execution_count": 138,
   "metadata": {},
   "outputs": [
    {
     "name": "stdout",
     "output_type": "stream",
     "text": [
      "<span>Regular expressions are the <b>best</b></span>\n"
     ]
    }
   ],
   "source": [
    "find_all_outer_html_elements('<span>Regular expressions are the <b>best</b></span>')"
   ]
  },
  {
   "cell_type": "code",
   "execution_count": 139,
   "metadata": {},
   "outputs": [
    {
     "name": "stdout",
     "output_type": "stream",
     "text": [
      "<span>I'm a span!</span>\n",
      "<span>I'm another span!</span>\n"
     ]
    }
   ],
   "source": [
    "find_all_outer_html_elements(\"<span>I'm a span!</span><span>I'm another span!</span>\")"
   ]
  },
  {
   "cell_type": "code",
   "execution_count": 168,
   "metadata": {},
   "outputs": [],
   "source": [
    "def find_rootname_and_extension_for_certain_image_files(string):\n",
    "    matches = re.search(r\"(?P<rootname>.+).(?P<extension>png|jpe?g|pdf)\", string)\n",
    "    return matches.groupdict()\n",
    "    # matches = re.search(r\"(.+).(png|jpe?g|pdf)\", string)\n",
    "    # return type(matches)\n",
    "    "
   ]
  },
  {
   "cell_type": "code",
   "execution_count": 169,
   "metadata": {},
   "outputs": [
    {
     "data": {
      "text/plain": [
       "{'rootname': 'cute_kittens', 'extension': 'pdf'}"
      ]
     },
     "execution_count": 169,
     "metadata": {},
     "output_type": "execute_result"
    }
   ],
   "source": [
    "find_rootname_and_extension_for_certain_image_files(\"cute_kittens.pdf\")"
   ]
  },
  {
   "cell_type": "code",
   "execution_count": 170,
   "metadata": {},
   "outputs": [
    {
     "data": {
      "text/plain": [
       "{'rootname': 'adorable_puppies', 'extension': 'jpg'}"
      ]
     },
     "execution_count": 170,
     "metadata": {},
     "output_type": "execute_result"
    }
   ],
   "source": [
    "find_rootname_and_extension_for_certain_image_files(\"adorable_puppies.jpg\")"
   ]
  },
  {
   "cell_type": "code",
   "execution_count": null,
   "metadata": {},
   "outputs": [],
   "source": []
  }
 ],
 "metadata": {
  "interpreter": {
   "hash": "ac8013a75859c6925308985c5e1ee5242e6e6f0429f283ee420b8cff3c2914b2"
  },
  "kernelspec": {
   "display_name": "Python 3.9.7 64-bit ('venv_night': venv)",
   "name": "python3"
  },
  "language_info": {
   "codemirror_mode": {
    "name": "ipython",
    "version": 3
   },
   "file_extension": ".py",
   "mimetype": "text/x-python",
   "name": "python",
   "nbconvert_exporter": "python",
   "pygments_lexer": "ipython3",
   "version": "3.9.7"
  },
  "orig_nbformat": 4
 },
 "nbformat": 4,
 "nbformat_minor": 2
}

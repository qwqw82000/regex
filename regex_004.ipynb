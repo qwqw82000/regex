{
 "cells": [
  {
   "cell_type": "code",
   "execution_count": 1,
   "metadata": {},
   "outputs": [],
   "source": [
    "import re"
   ]
  },
  {
   "cell_type": "code",
   "execution_count": 2,
   "metadata": {},
   "outputs": [],
   "source": [
    "example_string = \"\"\"Hello. Goodbye!\n",
    "Hello, how are you doing today? Hope you’re having a good one. Goodbye!\n",
    "Hello! It’s been great talking to you. Bye!\n",
    "Hello, so good to see you. Seeya later!\n",
    "Goodbye!\n",
    "Hello\"\"\""
   ]
  },
  {
   "cell_type": "code",
   "execution_count": 3,
   "metadata": {},
   "outputs": [],
   "source": [
    "# 어떤 문장이 Hello로 시작하고, bye!로 끝나는지 확인!\n",
    "def find_hello_start_bye_end(string):\n",
    "    match = re.search(r\"^Hello.*bye!$\", string)\n",
    "    return match is not None"
   ]
  },
  {
   "cell_type": "code",
   "execution_count": 4,
   "metadata": {},
   "outputs": [
    {
     "data": {
      "text/plain": [
       "False"
      ]
     },
     "execution_count": 4,
     "metadata": {},
     "output_type": "execute_result"
    }
   ],
   "source": [
    "find_hello_start_bye_end(\"Hello, so good to see you. Seeya later!\")"
   ]
  },
  {
   "cell_type": "code",
   "execution_count": 5,
   "metadata": {},
   "outputs": [],
   "source": [
    "def find_hello_start_bye_end_multiline(string):\n",
    "    match = re.search(r\"^Hello.*bye!$\", string, re.MULTILINE)\n",
    "    # match = re.search(r\"^Hello.*bye!$\", string)\n",
    "    return match is not None"
   ]
  },
  {
   "cell_type": "code",
   "execution_count": 6,
   "metadata": {},
   "outputs": [
    {
     "data": {
      "text/plain": [
       "True"
      ]
     },
     "execution_count": 6,
     "metadata": {},
     "output_type": "execute_result"
    }
   ],
   "source": [
    "find_hello_start_bye_end_multiline(example_string)"
   ]
  },
  {
   "cell_type": "code",
   "execution_count": 7,
   "metadata": {},
   "outputs": [],
   "source": [
    "def find_hello_start_bye_end_multiline2(string):\n",
    "    match = re.search(r\"^Hello.*bye!$\", string, re.MULTILINE)\n",
    "    return match.group(0)"
   ]
  },
  {
   "cell_type": "code",
   "execution_count": 8,
   "metadata": {},
   "outputs": [
    {
     "data": {
      "text/plain": [
       "'Hello. Goodbye!'"
      ]
     },
     "execution_count": 8,
     "metadata": {},
     "output_type": "execute_result"
    }
   ],
   "source": [
    "find_hello_start_bye_end_multiline2(example_string)"
   ]
  },
  {
   "cell_type": "markdown",
   "metadata": {},
   "source": [
    "# findall의 반환 타입은 groups의 list 타입이다.\n",
    "그런데, groups에 포함된 것이 search/match의 그것과 조금 다르다.\n",
    "\n",
    "search/match의 반환 타입 match 오브젝트의 groups()가 반환하는 tuple엔 0 번째 인덱스가 전체 검색 결과이고,\n",
    "findall의 반환 타입 list of groups의 groups에는 0 번째 인덱스부터 개별 결과가 포함된다."
   ]
  },
  {
   "cell_type": "code",
   "execution_count": 9,
   "metadata": {},
   "outputs": [],
   "source": [
    "def find_hello_start_bye_end_multiline_all(string):\n",
    "    match = re.findall(r\"^Hello.*bye!$\", string, re.MULTILINE)\n",
    "    return match"
   ]
  },
  {
   "cell_type": "code",
   "execution_count": 10,
   "metadata": {},
   "outputs": [
    {
     "data": {
      "text/plain": [
       "(['Hello. Goodbye!',\n",
       "  'Hello, how are you doing today? Hope you’re having a good one. Goodbye!'],\n",
       " list)"
      ]
     },
     "execution_count": 10,
     "metadata": {},
     "output_type": "execute_result"
    }
   ],
   "source": [
    "find_hello_start_bye_end_multiline_all(example_string), type(find_hello_start_bye_end_multiline_all(example_string)) "
   ]
  },
  {
   "cell_type": "markdown",
   "metadata": {},
   "source": [
    "# [] : 리스트 / 전지전능! 성능에 취약하다!\n",
    "# {} : 딕셔너리 / JSON \n",
    "# () : 튜플 / Numpy, Pandas 와 같은 라이브러리나 실행결과를 데이터셋으로 줄 때 많이 사용"
   ]
  },
  {
   "cell_type": "code",
   "execution_count": 11,
   "metadata": {},
   "outputs": [],
   "source": [
    "# case insensitive를 구현하고 싶다!\n",
    "def find_hello_start_bye_end_multiline_all_case_insensitive(string):\n",
    "    # match = re.findall(r\"^Hello.*bye!$\", string, re.MULTILINE | re.IGNORECASE)\n",
    "    match = re.findall(r\"^Hello.*bye!$\", string, re.M | re.I)\n",
    "    return match"
   ]
  },
  {
   "cell_type": "markdown",
   "metadata": {},
   "source": [
    "# re.MULTTILINE은 여러줄을 입력으로 받겠다는 의미 이다.\n",
    "# re.IGNORECASE는 대소문자 구별 안하겠다는 의미\n",
    "# re.DOTALL은 출력을 리스트로 주지만 인덱스 하나로 주겠다는 의미\n"
   ]
  },
  {
   "cell_type": "code",
   "execution_count": 12,
   "metadata": {},
   "outputs": [
    {
     "data": {
      "text/plain": [
       "['Hello. Goodbye!',\n",
       " 'Hello, how are you doing today? Hope you’re having a good one. Goodbye!',\n",
       " 'Hello! It’s been great talking to you. Bye!']"
      ]
     },
     "execution_count": 12,
     "metadata": {},
     "output_type": "execute_result"
    }
   ],
   "source": [
    "find_hello_start_bye_end_multiline_all_case_insensitive(example_string)"
   ]
  },
  {
   "cell_type": "code",
   "execution_count": 13,
   "metadata": {},
   "outputs": [
    {
     "data": {
      "text/plain": [
       "3"
      ]
     },
     "execution_count": 13,
     "metadata": {},
     "output_type": "execute_result"
    }
   ],
   "source": [
    "len(find_hello_start_bye_end_multiline_all_case_insensitive(example_string))"
   ]
  },
  {
   "cell_type": "code",
   "execution_count": 14,
   "metadata": {},
   "outputs": [],
   "source": [
    "def find_hello_start_bye_end_multiline_all_case_insensitive_single_line(string):\n",
    "    # match = re.findall(r\"^Hello.*bye!$\", string, re.MULTILINE | re.IGNORECASE | re.DOTALL)\n",
    "    match = re.findall(r\"^Hello.*bye!$\", string, re.M | re.I | re.S)\n",
    "    return match"
   ]
  },
  {
   "cell_type": "code",
   "execution_count": 15,
   "metadata": {},
   "outputs": [
    {
     "data": {
      "text/plain": [
       "['Hello. Goodbye!\\nHello, how are you doing today? Hope you’re having a good one. Goodbye!\\nHello! It’s been great talking to you. Bye!\\nHello, so good to see you. Seeya later!\\nGoodbye!']"
      ]
     },
     "execution_count": 15,
     "metadata": {},
     "output_type": "execute_result"
    }
   ],
   "source": [
    "find_hello_start_bye_end_multiline_all_case_insensitive_single_line(example_string)"
   ]
  },
  {
   "cell_type": "code",
   "execution_count": 16,
   "metadata": {},
   "outputs": [
    {
     "data": {
      "text/plain": [
       "1"
      ]
     },
     "execution_count": 16,
     "metadata": {},
     "output_type": "execute_result"
    }
   ],
   "source": [
    "len(find_hello_start_bye_end_multiline_all_case_insensitive_single_line(example_string))"
   ]
  }
 ],
 "metadata": {
  "interpreter": {
   "hash": "42e1dc2b03fbc0367403f76d6ca5587aad0fe066d3ca4fecf4a4cc25480583cf"
  },
  "kernelspec": {
   "display_name": "Python 3.8.6rc1 64-bit ('venv20211007': venv)",
   "name": "python3"
  },
  "language_info": {
   "codemirror_mode": {
    "name": "ipython",
    "version": 3
   },
   "file_extension": ".py",
   "mimetype": "text/x-python",
   "name": "python",
   "nbconvert_exporter": "python",
   "pygments_lexer": "ipython3",
   "version": "3.8.6"
  },
  "orig_nbformat": 4
 },
 "nbformat": 4,
 "nbformat_minor": 2
}
